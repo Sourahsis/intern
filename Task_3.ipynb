{
 "cells": [
  {
   "cell_type": "code",
   "execution_count": 1,
   "metadata": {},
   "outputs": [],
   "source": [
    "import pandas as pd\n",
    "df=pd.read_excel('Task3/rawdata.xlsx')"
   ]
  },
  {
   "cell_type": "code",
   "execution_count": 8,
   "metadata": {},
   "outputs": [
    {
     "data": {
      "text/plain": [
       "count            175\n",
       "unique             3\n",
       "top       2024-01-16\n",
       "freq              80\n",
       "Name: date, dtype: object"
      ]
     },
     "execution_count": 8,
     "metadata": {},
     "output_type": "execute_result"
    }
   ],
   "source": [
    "df.date.describe()"
   ]
  },
  {
   "cell_type": "code",
   "execution_count": 14,
   "metadata": {},
   "outputs": [
    {
     "name": "stdout",
     "output_type": "stream",
     "text": [
      "Datewise total duration:\n",
      "         date  duration in mintes\n",
      "0  2024-01-16               717.0\n",
      "1  2024-01-17              1522.0\n",
      "2  2024-01-18              1809.0\n",
      "\n",
      "Datewise number of picking and placing activity done:\n",
      "         date activity  count\n",
      "0  2024-01-16   picked     40\n",
      "1  2024-01-16   placed     40\n",
      "2  2024-01-17   picked     10\n",
      "3  2024-01-17   placed      9\n",
      "4  2024-01-18   picked     37\n",
      "5  2024-01-18   placed     39\n"
     ]
    },
    {
     "name": "stderr",
     "output_type": "stream",
     "text": [
      "C:\\Users\\soura\\AppData\\Local\\Temp\\ipykernel_14480\\4137803844.py:15: FutureWarning: A value is trying to be set on a copy of a DataFrame or Series through chained assignment using an inplace method.\n",
      "The behavior will change in pandas 3.0. This inplace method will never work because the intermediate object on which we are setting values always behaves as a copy.\n",
      "\n",
      "For example, when doing 'df[col].method(value, inplace=True)', try using 'df.method({col: value}, inplace=True)' or df[col] = df[col].method(value) instead, to perform the operation inplace on the original object.\n",
      "\n",
      "\n",
      "  df['duration in mintes'].fillna(0, inplace=True)\n"
     ]
    }
   ],
   "source": [
    "# Ensure 'date' and 'time' are strings\n",
    "df['date'] = df['date'].astype(str)\n",
    "df['time'] = df['time'].astype(str)\n",
    "\n",
    "# Convert 'date' and 'time' columns to datetime\n",
    "df['datetime'] = pd.to_datetime(df['date'] + ' ' + df['time'])\n",
    "\n",
    "# Sort the DataFrame by the datetime column\n",
    "df = df.sort_values(by='datetime')\n",
    "\n",
    "# Calculate the duration in minutes for each entry\n",
    "df['duration in mintes'] = df['datetime'].diff().dt.total_seconds() / 60\n",
    "\n",
    "# Fill the first row's NaN duration with 0\n",
    "df['duration in mintes'].fillna(0, inplace=True)\n",
    "\n",
    "# 1. Datewise total duration\n",
    "total_duration_agg = df.groupby('date')['duration in mintes'].sum().reset_index()\n",
    "print(\"Datewise total duration:\")\n",
    "print(total_duration_agg)\n",
    "\n",
    "# 2. Datewise number of picking and placing activity done\n",
    "activity_agg = df.groupby(['date', 'activity']).size().reset_index(name='count')\n",
    "print(\"\\nDatewise number of picking and placing activity done:\")\n",
    "print(activity_agg)"
   ]
  },
  {
   "cell_type": "code",
   "execution_count": null,
   "metadata": {},
   "outputs": [],
   "source": []
  }
 ],
 "metadata": {
  "kernelspec": {
   "display_name": "Python 3",
   "language": "python",
   "name": "python3"
  },
  "language_info": {
   "codemirror_mode": {
    "name": "ipython",
    "version": 3
   },
   "file_extension": ".py",
   "mimetype": "text/x-python",
   "name": "python",
   "nbconvert_exporter": "python",
   "pygments_lexer": "ipython3",
   "version": "3.10.7"
  }
 },
 "nbformat": 4,
 "nbformat_minor": 2
}
